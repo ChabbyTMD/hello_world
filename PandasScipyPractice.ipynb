{
 "cells": [
  {
   "cell_type": "markdown",
   "metadata": {},
   "source": [
    "# In class practice with Pandas & Scipy Libraries"
   ]
  },
  {
   "cell_type": "markdown",
   "metadata": {},
   "source": [
    "Import the libraries "
   ]
  },
  {
   "cell_type": "code",
   "execution_count": 1,
   "metadata": {},
   "outputs": [],
   "source": [
    "import os"
   ]
  },
  {
   "cell_type": "code",
   "execution_count": 2,
   "metadata": {},
   "outputs": [],
   "source": [
    "import pandas as pd"
   ]
  },
  {
   "cell_type": "code",
   "execution_count": 3,
   "metadata": {},
   "outputs": [],
   "source": [
    "from scipy import stats"
   ]
  },
  {
   "cell_type": "code",
   "execution_count": 6,
   "metadata": {},
   "outputs": [],
   "source": [
    "import re"
   ]
  },
  {
   "cell_type": "markdown",
   "metadata": {},
   "source": [
    "hello world"
   ]
  },
  {
   "cell_type": "markdown",
   "metadata": {},
   "source": [
    "## Working with pandas"
   ]
  },
  {
   "cell_type": "markdown",
   "metadata": {},
   "source": [
    "How to importa a tab-delimited text data file. The file is in the same directory at the jupyter notebook."
   ]
  },
  {
   "cell_type": "code",
   "execution_count": 4,
   "metadata": {},
   "outputs": [],
   "source": [
    "data=pd.read_csv('hist_taxa_treat.txt', sep='\\t', index_col=False, low_memory=False)"
   ]
  },
  {
   "cell_type": "markdown",
   "metadata": {},
   "source": [
    "How to use pandas to assign data from the dataset to a variable."
   ]
  },
  {
   "cell_type": "code",
   "execution_count": 5,
   "metadata": {},
   "outputs": [
    {
     "name": "stdout",
     "output_type": "stream",
     "text": [
      "lactos\n",
      "0     0.063575\n",
      "1     0.030630\n",
      "2     0.026108\n",
      "3     0.058233\n",
      "4     0.092633\n",
      "        ...   \n",
      "84    0.003580\n",
      "85    0.016010\n",
      "86    0.044609\n",
      "87    0.007296\n",
      "88    0.003000\n",
      "Name: Abundance, Length: 89, dtype: float64\n"
     ]
    }
   ],
   "source": [
    "lacto=data.loc[(data['Species']=='Lactobacillus')]\n",
    "x=lacto['Abundance']\n",
    "print('lactos')\n",
    "print(x)"
   ]
  },
  {
   "cell_type": "code",
   "execution_count": 7,
   "metadata": {},
   "outputs": [
    {
     "name": "stdout",
     "output_type": "stream",
     "text": [
      "paras\n",
      "89     0.0\n",
      "90     1.0\n",
      "91     2.0\n",
      "92     3.0\n",
      "93     0.0\n",
      "      ... \n",
      "173    2.0\n",
      "174    3.0\n",
      "175    0.0\n",
      "176    1.0\n",
      "177    3.0\n",
      "Name: Time, Length: 89, dtype: float64\n"
     ]
    }
   ],
   "source": [
    "para=data.loc[(data['Species']=='Parabacteroides')]\n",
    "#print(para)\n",
    "y=para['Abundance']\n",
    "print('paras')\n",
    "print(y)"
   ]
  },
  {
   "cell_type": "markdown",
   "metadata": {},
   "source": [
    "## Working with Scipy statistic methods"
   ]
  },
  {
   "cell_type": "code",
   "execution_count": 6,
   "metadata": {},
   "outputs": [
    {
     "name": "stdout",
     "output_type": "stream",
     "text": [
      "Ttest_indResult(statistic=7.288016524628965, pvalue=1.0200357215755368e-11)\n"
     ]
    }
   ],
   "source": [
    "tt_out=stats.ttest_ind(x,y)\n",
    "print(tt_out)"
   ]
  },
  {
   "cell_type": "markdown",
   "metadata": {},
   "source": [
    "## Exercises"
   ]
  },
  {
   "cell_type": "markdown",
   "metadata": {},
   "source": [
    "PRINT HEAD AND TAIL OF data"
   ]
  },
  {
   "cell_type": "markdown",
   "metadata": {},
   "source": [
    "MAKE species= the values in column 'Species'"
   ]
  },
  {
   "cell_type": "markdown",
   "metadata": {},
   "source": [
    "Use the describe function"
   ]
  },
  {
   "cell_type": "markdown",
   "metadata": {},
   "source": [
    "Print the sums, var, and std for data"
   ]
  },
  {
   "cell_type": "markdown",
   "metadata": {},
   "source": [
    "Make a new dataframe that only includes SampleID and Species.\n",
    "Make a second dataframe that only includes only Abundance.\n",
    "Make a third dataframe that merges the other two.\n",
    "\n"
   ]
  },
  {
   "cell_type": "code",
   "execution_count": 6,
   "metadata": {},
   "outputs": [
    {
     "data": {
      "text/html": [
       "<div>\n",
       "<style scoped>\n",
       "    .dataframe tbody tr th:only-of-type {\n",
       "        vertical-align: middle;\n",
       "    }\n",
       "\n",
       "    .dataframe tbody tr th {\n",
       "        vertical-align: top;\n",
       "    }\n",
       "\n",
       "    .dataframe thead th {\n",
       "        text-align: right;\n",
       "    }\n",
       "</style>\n",
       "<table border=\"1\" class=\"dataframe\">\n",
       "  <thead>\n",
       "    <tr style=\"text-align: right;\">\n",
       "      <th></th>\n",
       "      <th>SampleID</th>\n",
       "      <th>Treatment</th>\n",
       "      <th>Time</th>\n",
       "      <th>Species</th>\n",
       "      <th>Abundance</th>\n",
       "      <th>Unnamed: 5</th>\n",
       "      <th>X.SampleID</th>\n",
       "      <th>Time.1</th>\n",
       "      <th>Treatment.1</th>\n",
       "      <th>Species.1</th>\n",
       "      <th>Abundance.1</th>\n",
       "    </tr>\n",
       "  </thead>\n",
       "  <tbody>\n",
       "    <tr>\n",
       "      <th>0</th>\n",
       "      <td>CC01A</td>\n",
       "      <td>Control</td>\n",
       "      <td>0.0</td>\n",
       "      <td>Lactobacillus</td>\n",
       "      <td>0.063575</td>\n",
       "      <td>NaN</td>\n",
       "      <td>CC01A</td>\n",
       "      <td>0.0</td>\n",
       "      <td>1.0</td>\n",
       "      <td>Lactobacillus</td>\n",
       "      <td>1430.0</td>\n",
       "    </tr>\n",
       "    <tr>\n",
       "      <th>1</th>\n",
       "      <td>CC01B</td>\n",
       "      <td>Control</td>\n",
       "      <td>1.0</td>\n",
       "      <td>Lactobacillus</td>\n",
       "      <td>0.030630</td>\n",
       "      <td>NaN</td>\n",
       "      <td>CC01B</td>\n",
       "      <td>1.0</td>\n",
       "      <td>1.0</td>\n",
       "      <td>Lactobacillus</td>\n",
       "      <td>379.0</td>\n",
       "    </tr>\n",
       "    <tr>\n",
       "      <th>2</th>\n",
       "      <td>CC01C</td>\n",
       "      <td>Control</td>\n",
       "      <td>2.0</td>\n",
       "      <td>Lactobacillus</td>\n",
       "      <td>0.026108</td>\n",
       "      <td>NaN</td>\n",
       "      <td>CC01C</td>\n",
       "      <td>2.0</td>\n",
       "      <td>1.0</td>\n",
       "      <td>Lactobacillus</td>\n",
       "      <td>386.0</td>\n",
       "    </tr>\n",
       "    <tr>\n",
       "      <th>3</th>\n",
       "      <td>CC01D</td>\n",
       "      <td>Control</td>\n",
       "      <td>3.0</td>\n",
       "      <td>Lactobacillus</td>\n",
       "      <td>0.058233</td>\n",
       "      <td>NaN</td>\n",
       "      <td>CC01D</td>\n",
       "      <td>3.0</td>\n",
       "      <td>1.0</td>\n",
       "      <td>Lactobacillus</td>\n",
       "      <td>1193.0</td>\n",
       "    </tr>\n",
       "    <tr>\n",
       "      <th>4</th>\n",
       "      <td>CC02A</td>\n",
       "      <td>Control</td>\n",
       "      <td>0.0</td>\n",
       "      <td>Lactobacillus</td>\n",
       "      <td>0.092633</td>\n",
       "      <td>NaN</td>\n",
       "      <td>CC02A</td>\n",
       "      <td>0.0</td>\n",
       "      <td>1.0</td>\n",
       "      <td>Lactobacillus</td>\n",
       "      <td>2455.0</td>\n",
       "    </tr>\n",
       "  </tbody>\n",
       "</table>\n",
       "</div>"
      ],
      "text/plain": [
       "  SampleID Treatment  Time        Species  Abundance  Unnamed: 5 X.SampleID  \\\n",
       "0    CC01A   Control   0.0  Lactobacillus   0.063575         NaN      CC01A   \n",
       "1    CC01B   Control   1.0  Lactobacillus   0.030630         NaN      CC01B   \n",
       "2    CC01C   Control   2.0  Lactobacillus   0.026108         NaN      CC01C   \n",
       "3    CC01D   Control   3.0  Lactobacillus   0.058233         NaN      CC01D   \n",
       "4    CC02A   Control   0.0  Lactobacillus   0.092633         NaN      CC02A   \n",
       "\n",
       "   Time.1  Treatment.1      Species.1  Abundance.1  \n",
       "0     0.0          1.0  Lactobacillus       1430.0  \n",
       "1     1.0          1.0  Lactobacillus        379.0  \n",
       "2     2.0          1.0  Lactobacillus        386.0  \n",
       "3     3.0          1.0  Lactobacillus       1193.0  \n",
       "4     0.0          1.0  Lactobacillus       2455.0  "
      ]
     },
     "execution_count": 6,
     "metadata": {},
     "output_type": "execute_result"
    }
   ],
   "source": [
    "data.head()"
   ]
  },
  {
   "cell_type": "code",
   "execution_count": null,
   "metadata": {},
   "outputs": [],
   "source": []
  }
 ],
 "metadata": {
  "kernelspec": {
   "display_name": "Python 3 (ipykernel)",
   "language": "python",
   "name": "python3"
  },
  "language_info": {
   "codemirror_mode": {
    "name": "ipython",
    "version": 3
   },
   "file_extension": ".py",
   "mimetype": "text/x-python",
   "name": "python",
   "nbconvert_exporter": "python",
   "pygments_lexer": "ipython3",
   "version": "3.9.12"
  }
 },
 "nbformat": 4,
 "nbformat_minor": 4
}
