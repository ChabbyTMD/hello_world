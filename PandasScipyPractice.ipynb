{
 "cells": [
  {
   "cell_type": "markdown",
   "metadata": {},
   "source": [
    "# In class practice with Pandas & Scipy Libraries"
   ]
  },
  {
   "cell_type": "markdown",
   "metadata": {},
   "source": [
    "Import the libraries "
   ]
  },
  {
   "cell_type": "code",
   "execution_count": 2,
   "metadata": {},
   "outputs": [],
   "source": [
    "import os"
   ]
  },
  {
   "cell_type": "code",
   "execution_count": 3,
   "metadata": {},
   "outputs": [],
   "source": [
    "import pandas as pd"
   ]
  },
  {
   "cell_type": "code",
   "execution_count": 4,
   "metadata": {},
   "outputs": [],
   "source": [
    "from scipy import stats"
   ]
  },
  {
   "cell_type": "code",
   "execution_count": 5,
   "metadata": {},
   "outputs": [],
   "source": [
    "import re"
   ]
  },
  {
   "cell_type": "markdown",
   "metadata": {},
   "source": [
    "hello world"
   ]
  },
  {
   "cell_type": "markdown",
   "metadata": {},
   "source": [
    "## Working with pandas"
   ]
  },
  {
   "cell_type": "markdown",
   "metadata": {},
   "source": [
    "How to importa a tab-delimited text data file. The file is in the same directory at the jupyter notebook."
   ]
  },
  {
   "cell_type": "code",
   "execution_count": 6,
   "metadata": {},
   "outputs": [],
   "source": [
    "data=pd.read_csv('hist_taxa_treat.txt', sep='\\t', index_col=False, low_memory=False)"
   ]
  },
  {
   "cell_type": "markdown",
   "metadata": {},
   "source": [
    "How to use pandas to assign data from the dataset to a variable."
   ]
  },
  {
   "cell_type": "code",
   "execution_count": 7,
   "metadata": {},
   "outputs": [
    {
     "name": "stdout",
     "output_type": "stream",
     "text": [
      "lactos\n",
      "0     0.063575\n",
      "1     0.030630\n",
      "2     0.026108\n",
      "3     0.058233\n",
      "4     0.092633\n",
      "        ...   \n",
      "84    0.003580\n",
      "85    0.016010\n",
      "86    0.044609\n",
      "87    0.007296\n",
      "88    0.003000\n",
      "Name: Abundance, Length: 89, dtype: float64\n"
     ]
    }
   ],
   "source": [
    "lacto=data.loc[(data['Species']=='Lactobacillus')]\n",
    "x=lacto['Abundance']\n",
    "print('lactos')\n",
    "print(x)"
   ]
  },
  {
   "cell_type": "code",
   "execution_count": 8,
   "metadata": {},
   "outputs": [
    {
     "name": "stdout",
     "output_type": "stream",
     "text": [
      "paras\n",
      "89     0.005896\n",
      "90     0.001962\n",
      "91     0.002219\n",
      "92     0.003267\n",
      "93     0.002320\n",
      "         ...   \n",
      "173    0.003376\n",
      "174    0.002668\n",
      "175    0.012194\n",
      "176    0.020810\n",
      "177    0.006534\n",
      "Name: Abundance, Length: 89, dtype: float64\n"
     ]
    }
   ],
   "source": [
    "para=data.loc[(data['Species']=='Parabacteroides')]\n",
    "#print(para)\n",
    "y=para['Abundance']\n",
    "print('paras')\n",
    "print(y)"
   ]
  },
  {
   "cell_type": "markdown",
   "metadata": {},
   "source": [
    "## Working with Scipy statistic methods"
   ]
  },
  {
   "cell_type": "code",
   "execution_count": 9,
   "metadata": {},
   "outputs": [
    {
     "name": "stdout",
     "output_type": "stream",
     "text": [
      "TtestResult(statistic=7.288016524628964, pvalue=1.0200357215755368e-11, df=176.0)\n"
     ]
    }
   ],
   "source": [
    "tt_out=stats.ttest_ind(x,y)\n",
    "print(tt_out)"
   ]
  },
  {
   "cell_type": "markdown",
   "metadata": {},
   "source": [
    "## Exercises"
   ]
  },
  {
   "cell_type": "markdown",
   "metadata": {},
   "source": [
    "PRINT HEAD AND TAIL OF data"
   ]
  },
  {
   "cell_type": "code",
   "execution_count": 14,
   "metadata": {},
   "outputs": [
    {
     "name": "stdout",
     "output_type": "stream",
     "text": [
      "  SampleID Treatment  Time        Species  Abundance  Unnamed: 5 X.SampleID  \\\n",
      "0    CC01A   Control   0.0  Lactobacillus   0.063575         NaN      CC01A   \n",
      "1    CC01B   Control   1.0  Lactobacillus   0.030630         NaN      CC01B   \n",
      "2    CC01C   Control   2.0  Lactobacillus   0.026108         NaN      CC01C   \n",
      "3    CC01D   Control   3.0  Lactobacillus   0.058233         NaN      CC01D   \n",
      "4    CC02A   Control   0.0  Lactobacillus   0.092633         NaN      CC02A   \n",
      "\n",
      "   Time.1  Treatment.1      Species.1  Abundance.1  \n",
      "0     0.0          1.0  Lactobacillus       1430.0  \n",
      "1     1.0          1.0  Lactobacillus        379.0  \n",
      "2     2.0          1.0  Lactobacillus        386.0  \n",
      "3     3.0          1.0  Lactobacillus       1193.0  \n",
      "4     0.0          1.0  Lactobacillus       2455.0  \n",
      "---------------------------------------------------------------\n",
      "     SampleID  Treatment  Time              Species  Abundance  Unnamed: 5  \\\n",
      "1330    CC23C  Treatment   NaN  Desulfovibrionaceae   0.000000         NaN   \n",
      "1331    CC23D  Treatment   NaN  Desulfovibrionaceae   0.000000         NaN   \n",
      "1332    CC24A  Treatment   NaN  Desulfovibrionaceae   0.000203         NaN   \n",
      "1333    CC24B  Treatment   NaN  Desulfovibrionaceae   0.000063         NaN   \n",
      "1334    CC24D  Treatment   NaN  Desulfovibrionaceae   0.000000         NaN   \n",
      "\n",
      "     X.SampleID  Time.1  Treatment.1 Species.1  Abundance.1  \n",
      "1330        NaN     NaN          NaN       NaN          NaN  \n",
      "1331        NaN     NaN          NaN       NaN          NaN  \n",
      "1332        NaN     NaN          NaN       NaN          NaN  \n",
      "1333        NaN     NaN          NaN       NaN          NaN  \n",
      "1334        NaN     NaN          NaN       NaN          NaN  \n"
     ]
    }
   ],
   "source": [
    "# This prints out the first 4 records of the data dataframe\n",
    "print(data.head())\n",
    "\n",
    "print(\"---------------------------------------------------------------\")\n",
    "# this prints out the last records of the data dataframe\n",
    "print(data.tail())"
   ]
  },
  {
   "cell_type": "markdown",
   "metadata": {},
   "source": [
    "MAKE species= the values in column 'Species'"
   ]
  },
  {
   "cell_type": "code",
   "execution_count": 17,
   "metadata": {},
   "outputs": [
    {
     "name": "stdout",
     "output_type": "stream",
     "text": [
      "0             Lactobacillus\n",
      "1             Lactobacillus\n",
      "2             Lactobacillus\n",
      "3             Lactobacillus\n",
      "4             Lactobacillus\n",
      "               ...         \n",
      "1330    Desulfovibrionaceae\n",
      "1331    Desulfovibrionaceae\n",
      "1332    Desulfovibrionaceae\n",
      "1333    Desulfovibrionaceae\n",
      "1334    Desulfovibrionaceae\n",
      "Name: Species, Length: 1335, dtype: object\n"
     ]
    }
   ],
   "source": [
    "species = data[\"Species\"]\n",
    "print(species)"
   ]
  },
  {
   "cell_type": "markdown",
   "metadata": {},
   "source": [
    "Use the describe function"
   ]
  },
  {
   "cell_type": "code",
   "execution_count": 20,
   "metadata": {},
   "outputs": [
    {
     "data": {
      "text/html": [
       "<div>\n",
       "<style scoped>\n",
       "    .dataframe tbody tr th:only-of-type {\n",
       "        vertical-align: middle;\n",
       "    }\n",
       "\n",
       "    .dataframe tbody tr th {\n",
       "        vertical-align: top;\n",
       "    }\n",
       "\n",
       "    .dataframe thead th {\n",
       "        text-align: right;\n",
       "    }\n",
       "</style>\n",
       "<table border=\"1\" class=\"dataframe\">\n",
       "  <thead>\n",
       "    <tr style=\"text-align: right;\">\n",
       "      <th></th>\n",
       "      <th>Time</th>\n",
       "      <th>Abundance</th>\n",
       "      <th>Unnamed: 5</th>\n",
       "      <th>Time.1</th>\n",
       "      <th>Treatment.1</th>\n",
       "      <th>Abundance.1</th>\n",
       "    </tr>\n",
       "  </thead>\n",
       "  <tbody>\n",
       "    <tr>\n",
       "      <th>count</th>\n",
       "      <td>1068.000000</td>\n",
       "      <td>1335.000000</td>\n",
       "      <td>0.0</td>\n",
       "      <td>1068.000000</td>\n",
       "      <td>1068.000000</td>\n",
       "      <td>1068.000000</td>\n",
       "    </tr>\n",
       "    <tr>\n",
       "      <th>mean</th>\n",
       "      <td>1.505618</td>\n",
       "      <td>0.011190</td>\n",
       "      <td>NaN</td>\n",
       "      <td>1.505618</td>\n",
       "      <td>1.516854</td>\n",
       "      <td>218.326779</td>\n",
       "    </tr>\n",
       "    <tr>\n",
       "      <th>std</th>\n",
       "      <td>1.133525</td>\n",
       "      <td>0.024425</td>\n",
       "      <td>NaN</td>\n",
       "      <td>1.133525</td>\n",
       "      <td>0.499950</td>\n",
       "      <td>448.925723</td>\n",
       "    </tr>\n",
       "    <tr>\n",
       "      <th>min</th>\n",
       "      <td>0.000000</td>\n",
       "      <td>0.000000</td>\n",
       "      <td>NaN</td>\n",
       "      <td>0.000000</td>\n",
       "      <td>1.000000</td>\n",
       "      <td>0.000000</td>\n",
       "    </tr>\n",
       "    <tr>\n",
       "      <th>25%</th>\n",
       "      <td>0.000000</td>\n",
       "      <td>0.000072</td>\n",
       "      <td>NaN</td>\n",
       "      <td>0.000000</td>\n",
       "      <td>1.000000</td>\n",
       "      <td>5.000000</td>\n",
       "    </tr>\n",
       "    <tr>\n",
       "      <th>50%</th>\n",
       "      <td>2.000000</td>\n",
       "      <td>0.001127</td>\n",
       "      <td>NaN</td>\n",
       "      <td>2.000000</td>\n",
       "      <td>2.000000</td>\n",
       "      <td>28.000000</td>\n",
       "    </tr>\n",
       "    <tr>\n",
       "      <th>75%</th>\n",
       "      <td>3.000000</td>\n",
       "      <td>0.007133</td>\n",
       "      <td>NaN</td>\n",
       "      <td>3.000000</td>\n",
       "      <td>2.000000</td>\n",
       "      <td>200.000000</td>\n",
       "    </tr>\n",
       "    <tr>\n",
       "      <th>max</th>\n",
       "      <td>3.000000</td>\n",
       "      <td>0.206322</td>\n",
       "      <td>NaN</td>\n",
       "      <td>3.000000</td>\n",
       "      <td>2.000000</td>\n",
       "      <td>4317.000000</td>\n",
       "    </tr>\n",
       "  </tbody>\n",
       "</table>\n",
       "</div>"
      ],
      "text/plain": [
       "              Time    Abundance  Unnamed: 5       Time.1  Treatment.1  \\\n",
       "count  1068.000000  1335.000000         0.0  1068.000000  1068.000000   \n",
       "mean      1.505618     0.011190         NaN     1.505618     1.516854   \n",
       "std       1.133525     0.024425         NaN     1.133525     0.499950   \n",
       "min       0.000000     0.000000         NaN     0.000000     1.000000   \n",
       "25%       0.000000     0.000072         NaN     0.000000     1.000000   \n",
       "50%       2.000000     0.001127         NaN     2.000000     2.000000   \n",
       "75%       3.000000     0.007133         NaN     3.000000     2.000000   \n",
       "max       3.000000     0.206322         NaN     3.000000     2.000000   \n",
       "\n",
       "       Abundance.1  \n",
       "count  1068.000000  \n",
       "mean    218.326779  \n",
       "std     448.925723  \n",
       "min       0.000000  \n",
       "25%       5.000000  \n",
       "50%      28.000000  \n",
       "75%     200.000000  \n",
       "max    4317.000000  "
      ]
     },
     "execution_count": 20,
     "metadata": {},
     "output_type": "execute_result"
    }
   ],
   "source": [
    "describedf = data.describe()\n",
    "describedf"
   ]
  },
  {
   "cell_type": "markdown",
   "metadata": {},
   "source": [
    "Print the sums, var, and std for data"
   ]
  },
  {
   "cell_type": "markdown",
   "metadata": {},
   "source": [
    "Make a new dataframe that only includes SampleID and Species.\n",
    "Make a second dataframe that only includes only Abundance.\n",
    "Make a third dataframe that merges the other two.\n",
    "\n"
   ]
  },
  {
   "cell_type": "code",
   "execution_count": 21,
   "metadata": {},
   "outputs": [],
   "source": [
    "IDandSpp = data[[\"SampleID\",\"Species\"]]\n",
    "Abundance = data[\"Abundance\"]"
   ]
  },
  {
   "cell_type": "code",
   "execution_count": 24,
   "metadata": {},
   "outputs": [
    {
     "data": {
      "text/html": [
       "<div>\n",
       "<style scoped>\n",
       "    .dataframe tbody tr th:only-of-type {\n",
       "        vertical-align: middle;\n",
       "    }\n",
       "\n",
       "    .dataframe tbody tr th {\n",
       "        vertical-align: top;\n",
       "    }\n",
       "\n",
       "    .dataframe thead th {\n",
       "        text-align: right;\n",
       "    }\n",
       "</style>\n",
       "<table border=\"1\" class=\"dataframe\">\n",
       "  <thead>\n",
       "    <tr style=\"text-align: right;\">\n",
       "      <th></th>\n",
       "      <th>SampleID</th>\n",
       "      <th>Species</th>\n",
       "      <th>Abundance</th>\n",
       "    </tr>\n",
       "  </thead>\n",
       "  <tbody>\n",
       "    <tr>\n",
       "      <th>0</th>\n",
       "      <td>CC01A</td>\n",
       "      <td>Lactobacillus</td>\n",
       "      <td>NaN</td>\n",
       "    </tr>\n",
       "    <tr>\n",
       "      <th>1</th>\n",
       "      <td>CC01B</td>\n",
       "      <td>Lactobacillus</td>\n",
       "      <td>NaN</td>\n",
       "    </tr>\n",
       "    <tr>\n",
       "      <th>2</th>\n",
       "      <td>CC01C</td>\n",
       "      <td>Lactobacillus</td>\n",
       "      <td>NaN</td>\n",
       "    </tr>\n",
       "    <tr>\n",
       "      <th>3</th>\n",
       "      <td>CC01D</td>\n",
       "      <td>Lactobacillus</td>\n",
       "      <td>NaN</td>\n",
       "    </tr>\n",
       "    <tr>\n",
       "      <th>4</th>\n",
       "      <td>CC02A</td>\n",
       "      <td>Lactobacillus</td>\n",
       "      <td>NaN</td>\n",
       "    </tr>\n",
       "    <tr>\n",
       "      <th>...</th>\n",
       "      <td>...</td>\n",
       "      <td>...</td>\n",
       "      <td>...</td>\n",
       "    </tr>\n",
       "    <tr>\n",
       "      <th>1330</th>\n",
       "      <td>NaN</td>\n",
       "      <td>NaN</td>\n",
       "      <td>0.000000</td>\n",
       "    </tr>\n",
       "    <tr>\n",
       "      <th>1331</th>\n",
       "      <td>NaN</td>\n",
       "      <td>NaN</td>\n",
       "      <td>0.000000</td>\n",
       "    </tr>\n",
       "    <tr>\n",
       "      <th>1332</th>\n",
       "      <td>NaN</td>\n",
       "      <td>NaN</td>\n",
       "      <td>0.000203</td>\n",
       "    </tr>\n",
       "    <tr>\n",
       "      <th>1333</th>\n",
       "      <td>NaN</td>\n",
       "      <td>NaN</td>\n",
       "      <td>0.000063</td>\n",
       "    </tr>\n",
       "    <tr>\n",
       "      <th>1334</th>\n",
       "      <td>NaN</td>\n",
       "      <td>NaN</td>\n",
       "      <td>0.000000</td>\n",
       "    </tr>\n",
       "  </tbody>\n",
       "</table>\n",
       "<p>2670 rows × 3 columns</p>\n",
       "</div>"
      ],
      "text/plain": [
       "     SampleID        Species  Abundance\n",
       "0       CC01A  Lactobacillus        NaN\n",
       "1       CC01B  Lactobacillus        NaN\n",
       "2       CC01C  Lactobacillus        NaN\n",
       "3       CC01D  Lactobacillus        NaN\n",
       "4       CC02A  Lactobacillus        NaN\n",
       "...       ...            ...        ...\n",
       "1330      NaN            NaN   0.000000\n",
       "1331      NaN            NaN   0.000000\n",
       "1332      NaN            NaN   0.000203\n",
       "1333      NaN            NaN   0.000063\n",
       "1334      NaN            NaN   0.000000\n",
       "\n",
       "[2670 rows x 3 columns]"
      ]
     },
     "execution_count": 24,
     "metadata": {},
     "output_type": "execute_result"
    }
   ],
   "source": [
    "# https://pandas.pydata.org/pandas-docs/stable/user_guide/merging.html#concat\n",
    "frame = [IDandSpp,Abundance]\n",
    "mergeddf = pd.concat(frame)\n",
    "mergeddf"
   ]
  },
  {
   "cell_type": "code",
   "execution_count": null,
   "metadata": {},
   "outputs": [],
   "source": []
  }
 ],
 "metadata": {
  "kernelspec": {
   "display_name": "Python 3 (ipykernel)",
   "language": "python",
   "name": "python3"
  },
  "language_info": {
   "codemirror_mode": {
    "name": "ipython",
    "version": 3
   },
   "file_extension": ".py",
   "mimetype": "text/x-python",
   "name": "python",
   "nbconvert_exporter": "python",
   "pygments_lexer": "ipython3",
   "version": "3.9.18"
  }
 },
 "nbformat": 4,
 "nbformat_minor": 4
}
