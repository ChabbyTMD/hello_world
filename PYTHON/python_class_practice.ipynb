{
 "cells": [
  {
   "cell_type": "code",
   "execution_count": 2,
   "metadata": {},
   "outputs": [],
   "source": [
    "class liquid_container:\n",
    "    dimensions = 3\n",
    "\n",
    "    def __init__(self, name, height, contents):\n",
    "        self.name = name\n",
    "        self.height = height\n",
    "        self.contents = contents\n",
    "# Define a method that will display the contents of the bottle\n",
    "    def display(self):\n",
    "        print(self.name)\n",
    "        print(self.contents)\n",
    "\n",
    "\n"
   ]
  },
  {
   "cell_type": "code",
   "execution_count": 3,
   "metadata": {},
   "outputs": [
    {
     "name": "stdout",
     "output_type": "stream",
     "text": [
      "wine_bottle\n",
      "Merlot\n"
     ]
    }
   ],
   "source": [
    "# my_bottle = liquid_container(\"wine_bottle\", height=10)\n",
    "marks_bottle = liquid_container(\"wine_bottle\", height=10,contents=\"Merlot\")\n",
    "marks_bottle.display()"
   ]
  },
  {
   "cell_type": "code",
   "execution_count": 5,
   "metadata": {},
   "outputs": [
    {
     "name": "stdout",
     "output_type": "stream",
     "text": [
      "barrel\n",
      "Mead\n",
      "TRUE\n",
      "wood\n"
     ]
    }
   ],
   "source": [
    "class liquid_container:\n",
    "    dimensions = 3\n",
    "\n",
    "    def __init__(self, name, height, contents, cap, material):\n",
    "        self.name = name\n",
    "        self.height = height\n",
    "        self.contents = contents\n",
    "        self.cap = cap\n",
    "        self.material = material \n",
    "# Define a method that will display the contents of the bottle\n",
    "    def display(self):\n",
    "        print(self.name)\n",
    "        print(self.contents)\n",
    "        print(self.cap)\n",
    "        print(self.material)\n",
    "\n",
    "lauras_bottle = liquid_container(\"barrel\", height=10,contents=\"Mead\", cap=\"TRUE\", material=\"wood\")\n",
    "lauras_bottle.display()\n",
    "\n",
    "\n"
   ]
  },
  {
   "cell_type": "code",
   "execution_count": 9,
   "metadata": {},
   "outputs": [],
   "source": [
    "# subclasses. Inherit all attributes from parent class and define specific attributes that are relevant to the sub class.\n",
    "\n",
    "# Child class\n",
    "\n",
    "# def child_class_name(parent_class):\n",
    "# \n",
    "\n",
    "class cup(liquid_container):\n",
    "    def __init__(self, name, height, contents, cap, material, handle):\n",
    "        liquid_container.__init__(self, name, height, contents, cap, material)\n",
    "        self.handle = handle\n",
    "        \n",
    "    def pour(self):\n",
    "        print(\"Pour out {}\".format(self.contents))\n",
    "\n",
    "    \n",
    "\n",
    "\n",
    "\n",
    "        "
   ]
  },
  {
   "cell_type": "code",
   "execution_count": 10,
   "metadata": {},
   "outputs": [
    {
     "name": "stdout",
     "output_type": "stream",
     "text": [
      "Pour out coffee\n",
      "mug\n",
      "coffee\n",
      "False\n",
      "ceramic\n"
     ]
    }
   ],
   "source": [
    "new_mug = cup(name=\"mug\", height=\"5\", contents=\"coffee\", cap=\"False\", material=\"ceramic\", handle=\"TRUE\")\n",
    "new_mug.pour()\n",
    "new_mug.display()"
   ]
  },
  {
   "cell_type": "code",
   "execution_count": 14,
   "metadata": {},
   "outputs": [],
   "source": [
    "# Practice bottle class\n",
    "class bottle(liquid_container):\n",
    "    def __init__(self, name, height, contents, cap, material, date):\n",
    "        liquid_container.__init__(self, name, height, contents, cap, material)\n",
    "        self.date = date\n",
    "        \n",
    "    def drink(self):\n",
    "        print(\"This drink was bottled on {}\".format(self.date))\n"
   ]
  },
  {
   "cell_type": "code",
   "execution_count": 15,
   "metadata": {},
   "outputs": [
    {
     "name": "stdout",
     "output_type": "stream",
     "text": [
      "This drink was bottled on 02/02/2025\n",
      "mug\n",
      "coffee\n",
      "False\n",
      "ceramic\n"
     ]
    }
   ],
   "source": [
    "new_bottle = bottle(name=\"mug\", height=\"5\", contents=\"coffee\", cap=\"False\", material=\"ceramic\", date=\"02/02/2025\")\n",
    "new_bottle.drink()\n",
    "new_bottle.display()"
   ]
  },
  {
   "cell_type": "code",
   "execution_count": null,
   "metadata": {},
   "outputs": [],
   "source": []
  }
 ],
 "metadata": {
  "kernelspec": {
   "display_name": "Python 3",
   "language": "python",
   "name": "python3"
  },
  "language_info": {
   "codemirror_mode": {
    "name": "ipython",
    "version": 3
   },
   "file_extension": ".py",
   "mimetype": "text/x-python",
   "name": "python",
   "nbconvert_exporter": "python",
   "pygments_lexer": "ipython3",
   "version": "3.10.6"
  }
 },
 "nbformat": 4,
 "nbformat_minor": 2
}
